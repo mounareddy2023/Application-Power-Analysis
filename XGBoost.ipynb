{
 "cells": [
  {
   "cell_type": "code",
   "execution_count": 1,
   "metadata": {},
   "outputs": [],
   "source": [
    "#import useful libraries\n",
    "import numpy as np\n",
    "import pandas as pd\n",
    "import matplotlib.pyplot as plt\n",
    "\n",
    "#get graphs inline\n",
    "%matplotlib inline\n"
   ]
  },
  {
   "cell_type": "code",
   "execution_count": 2,
   "metadata": {},
   "outputs": [],
   "source": [
    "# import warnings filter\n",
    "from warnings import simplefilter\n",
    "# ignore all future warnings\n",
    "simplefilter(action='ignore', category=FutureWarning)"
   ]
  },
  {
   "cell_type": "code",
   "execution_count": 3,
   "metadata": {},
   "outputs": [
    {
     "data": {
      "text/html": [
       "<div>\n",
       "<style scoped>\n",
       "    .dataframe tbody tr th:only-of-type {\n",
       "        vertical-align: middle;\n",
       "    }\n",
       "\n",
       "    .dataframe tbody tr th {\n",
       "        vertical-align: top;\n",
       "    }\n",
       "\n",
       "    .dataframe thead th {\n",
       "        text-align: right;\n",
       "    }\n",
       "</style>\n",
       "<table border=\"1\" class=\"dataframe\">\n",
       "  <thead>\n",
       "    <tr style=\"text-align: right;\">\n",
       "      <th></th>\n",
       "      <th>channelGuid</th>\n",
       "      <th>current</th>\n",
       "      <th>frequency</th>\n",
       "      <th>occurredAt</th>\n",
       "      <th>power</th>\n",
       "      <th>powerFactor</th>\n",
       "      <th>voltage</th>\n",
       "      <th>Date</th>\n",
       "      <th>Time</th>\n",
       "    </tr>\n",
       "  </thead>\n",
       "  <tbody>\n",
       "    <tr>\n",
       "      <td>0</td>\n",
       "      <td>1</td>\n",
       "      <td>0.213</td>\n",
       "      <td>50.9</td>\n",
       "      <td>1529924401</td>\n",
       "      <td>35.51</td>\n",
       "      <td>0.72</td>\n",
       "      <td>229.41</td>\n",
       "      <td>25-06-2018</td>\n",
       "      <td>16:30:01</td>\n",
       "    </tr>\n",
       "    <tr>\n",
       "      <td>1</td>\n",
       "      <td>1</td>\n",
       "      <td>0.245</td>\n",
       "      <td>50.8</td>\n",
       "      <td>1529924403</td>\n",
       "      <td>42.38</td>\n",
       "      <td>0.75</td>\n",
       "      <td>229.25</td>\n",
       "      <td>25-06-2018</td>\n",
       "      <td>16:30:03</td>\n",
       "    </tr>\n",
       "    <tr>\n",
       "      <td>2</td>\n",
       "      <td>1</td>\n",
       "      <td>0.247</td>\n",
       "      <td>50.3</td>\n",
       "      <td>1529924404</td>\n",
       "      <td>43.23</td>\n",
       "      <td>0.76</td>\n",
       "      <td>228.69</td>\n",
       "      <td>25-06-2018</td>\n",
       "      <td>16:30:04</td>\n",
       "    </tr>\n",
       "    <tr>\n",
       "      <td>3</td>\n",
       "      <td>1</td>\n",
       "      <td>0.232</td>\n",
       "      <td>51.0</td>\n",
       "      <td>1529924405</td>\n",
       "      <td>39.97</td>\n",
       "      <td>0.75</td>\n",
       "      <td>228.94</td>\n",
       "      <td>25-06-2018</td>\n",
       "      <td>16:30:05</td>\n",
       "    </tr>\n",
       "    <tr>\n",
       "      <td>4</td>\n",
       "      <td>1</td>\n",
       "      <td>0.213</td>\n",
       "      <td>51.5</td>\n",
       "      <td>1529924406</td>\n",
       "      <td>36.22</td>\n",
       "      <td>0.74</td>\n",
       "      <td>229.19</td>\n",
       "      <td>25-06-2018</td>\n",
       "      <td>16:30:06</td>\n",
       "    </tr>\n",
       "  </tbody>\n",
       "</table>\n",
       "</div>"
      ],
      "text/plain": [
       "   channelGuid  current  frequency  occurredAt  power  powerFactor  voltage  \\\n",
       "0            1    0.213       50.9  1529924401  35.51         0.72   229.41   \n",
       "1            1    0.245       50.8  1529924403  42.38         0.75   229.25   \n",
       "2            1    0.247       50.3  1529924404  43.23         0.76   228.69   \n",
       "3            1    0.232       51.0  1529924405  39.97         0.75   228.94   \n",
       "4            1    0.213       51.5  1529924406  36.22         0.74   229.19   \n",
       "\n",
       "         Date      Time  \n",
       "0  25-06-2018  16:30:01  \n",
       "1  25-06-2018  16:30:03  \n",
       "2  25-06-2018  16:30:04  \n",
       "3  25-06-2018  16:30:05  \n",
       "4  25-06-2018  16:30:06  "
      ]
     },
     "execution_count": 3,
     "metadata": {},
     "output_type": "execute_result"
    }
   ],
   "source": [
    "#Create a DataFrame\n",
    "data1 = pd.read_csv('VM1_MySQL.csv')\n",
    "df1 = pd.DataFrame(data1)\n",
    "df1.head()"
   ]
  },
  {
   "cell_type": "code",
   "execution_count": 4,
   "metadata": {},
   "outputs": [
    {
     "data": {
      "text/html": [
       "<div>\n",
       "<style scoped>\n",
       "    .dataframe tbody tr th:only-of-type {\n",
       "        vertical-align: middle;\n",
       "    }\n",
       "\n",
       "    .dataframe tbody tr th {\n",
       "        vertical-align: top;\n",
       "    }\n",
       "\n",
       "    .dataframe thead th {\n",
       "        text-align: right;\n",
       "    }\n",
       "</style>\n",
       "<table border=\"1\" class=\"dataframe\">\n",
       "  <thead>\n",
       "    <tr style=\"text-align: right;\">\n",
       "      <th></th>\n",
       "      <th>channelGuid</th>\n",
       "      <th>current</th>\n",
       "      <th>frequency</th>\n",
       "      <th>occurredAt</th>\n",
       "      <th>power</th>\n",
       "      <th>powerFactor</th>\n",
       "      <th>voltage</th>\n",
       "      <th>Date</th>\n",
       "      <th>Time</th>\n",
       "    </tr>\n",
       "  </thead>\n",
       "  <tbody>\n",
       "    <tr>\n",
       "      <td>0</td>\n",
       "      <td>2</td>\n",
       "      <td>0.205</td>\n",
       "      <td>52.6</td>\n",
       "      <td>1529653261</td>\n",
       "      <td>33.72</td>\n",
       "      <td>0.71</td>\n",
       "      <td>229.66</td>\n",
       "      <td>22-06-2018</td>\n",
       "      <td>13:11:01</td>\n",
       "    </tr>\n",
       "    <tr>\n",
       "      <td>1</td>\n",
       "      <td>2</td>\n",
       "      <td>0.223</td>\n",
       "      <td>52.0</td>\n",
       "      <td>1529653262</td>\n",
       "      <td>37.80</td>\n",
       "      <td>0.73</td>\n",
       "      <td>229.44</td>\n",
       "      <td>22-06-2018</td>\n",
       "      <td>13:11:02</td>\n",
       "    </tr>\n",
       "    <tr>\n",
       "      <td>2</td>\n",
       "      <td>2</td>\n",
       "      <td>0.237</td>\n",
       "      <td>52.5</td>\n",
       "      <td>1529653263</td>\n",
       "      <td>41.07</td>\n",
       "      <td>0.75</td>\n",
       "      <td>229.31</td>\n",
       "      <td>22-06-2018</td>\n",
       "      <td>13:11:03</td>\n",
       "    </tr>\n",
       "    <tr>\n",
       "      <td>3</td>\n",
       "      <td>2</td>\n",
       "      <td>0.255</td>\n",
       "      <td>52.1</td>\n",
       "      <td>1529653264</td>\n",
       "      <td>45.05</td>\n",
       "      <td>0.77</td>\n",
       "      <td>229.29</td>\n",
       "      <td>22-06-2018</td>\n",
       "      <td>13:11:04</td>\n",
       "    </tr>\n",
       "    <tr>\n",
       "      <td>4</td>\n",
       "      <td>2</td>\n",
       "      <td>0.251</td>\n",
       "      <td>52.5</td>\n",
       "      <td>1529653265</td>\n",
       "      <td>44.09</td>\n",
       "      <td>0.76</td>\n",
       "      <td>229.50</td>\n",
       "      <td>22-06-2018</td>\n",
       "      <td>13:11:05</td>\n",
       "    </tr>\n",
       "  </tbody>\n",
       "</table>\n",
       "</div>"
      ],
      "text/plain": [
       "   channelGuid  current  frequency  occurredAt  power  powerFactor  voltage  \\\n",
       "0            2    0.205       52.6  1529653261  33.72         0.71   229.66   \n",
       "1            2    0.223       52.0  1529653262  37.80         0.73   229.44   \n",
       "2            2    0.237       52.5  1529653263  41.07         0.75   229.31   \n",
       "3            2    0.255       52.1  1529653264  45.05         0.77   229.29   \n",
       "4            2    0.251       52.5  1529653265  44.09         0.76   229.50   \n",
       "\n",
       "         Date      Time  \n",
       "0  22-06-2018  13:11:01  \n",
       "1  22-06-2018  13:11:02  \n",
       "2  22-06-2018  13:11:03  \n",
       "3  22-06-2018  13:11:04  \n",
       "4  22-06-2018  13:11:05  "
      ]
     },
     "execution_count": 4,
     "metadata": {},
     "output_type": "execute_result"
    }
   ],
   "source": [
    "data2 = pd.read_csv('VM3_Tomcat.csv')\n",
    "df2 = pd.DataFrame(data2)\n",
    "df2.head()"
   ]
  },
  {
   "cell_type": "code",
   "execution_count": 5,
   "metadata": {},
   "outputs": [
    {
     "name": "stdout",
     "output_type": "stream",
     "text": [
      "   channelGuid  current  frequency  occurredAt  power  powerFactor  voltage  \\\n",
      "0            1    0.213       50.9  1529924401  35.51         0.72   229.41   \n",
      "1            1    0.245       50.8  1529924403  42.38         0.75   229.25   \n",
      "2            1    0.247       50.3  1529924404  43.23         0.76   228.69   \n",
      "3            1    0.232       51.0  1529924405  39.97         0.75   228.94   \n",
      "4            1    0.213       51.5  1529924406  36.22         0.74   229.19   \n",
      "\n",
      "         Date      Time  \n",
      "0  25-06-2018  16:30:01  \n",
      "1  25-06-2018  16:30:03  \n",
      "2  25-06-2018  16:30:04  \n",
      "3  25-06-2018  16:30:05  \n",
      "4  25-06-2018  16:30:06  \n",
      "      channelGuid  current  frequency  occurredAt  power  powerFactor  \\\n",
      "1497            2    0.217       51.7  1529654898  36.13         0.72   \n",
      "1498            2    0.177       51.8  1529654904  29.03         0.71   \n",
      "1499            2    0.175       51.6  1529654997  28.46         0.70   \n",
      "1500            2    0.220       52.3  1529655047  36.82         0.72   \n",
      "1501            2    0.256       52.9  1529655086  45.32         0.77   \n",
      "\n",
      "      voltage        Date      Time  \n",
      "1497   229.74  22-06-2018  13:38:18  \n",
      "1498   229.12  22-06-2018  13:38:24  \n",
      "1499   229.40  22-06-2018  13:39:57  \n",
      "1500   229.94  22-06-2018  13:40:47  \n",
      "1501   229.89  22-06-2018  13:41:26  \n"
     ]
    }
   ],
   "source": [
    "data = pd.concat([df1,df2])\n",
    "\n",
    "print(data.head())\n",
    "\n",
    "print(data.tail())"
   ]
  },
  {
   "cell_type": "code",
   "execution_count": 6,
   "metadata": {},
   "outputs": [],
   "source": [
    "X = data.iloc[:,[4]].values\n",
    "y = data.iloc[:, [0]].values"
   ]
  },
  {
   "cell_type": "code",
   "execution_count": 7,
   "metadata": {},
   "outputs": [],
   "source": [
    "from sklearn.model_selection import train_test_split\n",
    "X_train, X_test, y_train, y_test = train_test_split(X, y, test_size=0.2)\n"
   ]
  },
  {
   "cell_type": "code",
   "execution_count": 8,
   "metadata": {},
   "outputs": [],
   "source": [
    "# Feature scaling \n",
    "from sklearn.preprocessing import StandardScaler\n",
    "sc = StandardScaler()\n",
    "X_train= sc.fit_transform(X_train)\n",
    "X_test=sc.transform(X_test)"
   ]
  },
  {
   "cell_type": "code",
   "execution_count": 31,
   "metadata": {},
   "outputs": [
    {
     "data": {
      "text/plain": [
       "XGBClassifier(base_score=0.5, booster='gbtree', colsample_bylevel=1,\n",
       "              colsample_bynode=1, colsample_bytree=0.4, gamma=10,\n",
       "              learning_rate=0.01, max_delta_step=0, max_depth=6,\n",
       "              min_child_weight=1, missing=None, n_estimators=5000, n_jobs=1,\n",
       "              nthread=None, objective='binary:logistic', random_state=0,\n",
       "              reg_alpha=0.3, reg_lambda=1, scale_pos_weight=1, seed=None,\n",
       "              silent=None, subsample=0.8, verbosity=1)"
      ]
     },
     "execution_count": 31,
     "metadata": {},
     "output_type": "execute_result"
    }
   ],
   "source": [
    "# fit model no training data\n",
    "from numpy import loadtxt\n",
    "from xgboost import XGBClassifier\n",
    "from sklearn.model_selection import train_test_split\n",
    "from sklearn.metrics import accuracy_score\n",
    "model_tuning = XGBClassifier(base_score=0.5, booster='gbtree', colsample_bylevel=1,\n",
    "              colsample_bynode=1, colsample_bytree=0.4, gamma=10,\n",
    "              learning_rate=0.01, max_delta_step=0, max_depth=6,\n",
    "              min_child_weight=1, missing=None, n_estimators=5000, n_jobs=1,\n",
    "              nthread=None, objective='binary:logistic', random_state=0,\n",
    "              reg_alpha=0.3, reg_lambda=1, scale_pos_weight=1, seed=None,\n",
    "              silent=None, subsample=0.8, verbosity=1)\n",
    "model_tuning.fit(X_train, y_train)"
   ]
  },
  {
   "cell_type": "code",
   "execution_count": 32,
   "metadata": {},
   "outputs": [
    {
     "name": "stdout",
     "output_type": "stream",
     "text": [
      "Test :  [[543  80]\n",
      " [177  94]]\n",
      "Test :  0.7125279642058165\n"
     ]
    }
   ],
   "source": [
    "y_predictor = model_tuning.predict(X_test)\n",
    "from sklearn.metrics import confusion_matrix\n",
    "errors = confusion_matrix(y_test,y_predictor)\n",
    "print('Test : ',errors)\n",
    "from sklearn.metrics import accuracy_score\n",
    "accuracy=accuracy_score(y_test, y_predictor, normalize=True, sample_weight=None)\n",
    "print('Test : ',accuracy)"
   ]
  },
  {
   "cell_type": "code",
   "execution_count": 33,
   "metadata": {},
   "outputs": [
    {
     "name": "stdout",
     "output_type": "stream",
     "text": [
      "Report of Test : \n",
      "              precision    recall  f1-score   support\n",
      "\n",
      "           1       0.75      0.87      0.81       623\n",
      "           2       0.54      0.35      0.42       271\n",
      "\n",
      "    accuracy                           0.71       894\n",
      "   macro avg       0.65      0.61      0.62       894\n",
      "weighted avg       0.69      0.71      0.69       894\n",
      "\n"
     ]
    }
   ],
   "source": [
    "from sklearn.metrics import classification_report \n",
    "print('Report of Test : ')\n",
    "print(classification_report(y_test, y_predictor))"
   ]
  },
  {
   "cell_type": "code",
   "execution_count": 34,
   "metadata": {},
   "outputs": [
    {
     "name": "stdout",
     "output_type": "stream",
     "text": [
      "Train :  [[2110  233]\n",
      " [ 777  454]]\n",
      "Train :  0.7174034695019585\n"
     ]
    }
   ],
   "source": [
    "y_predictor = model_tuning.predict(X_train)\n",
    "from sklearn.metrics import confusion_matrix\n",
    "errors = confusion_matrix(y_train,y_predictor)\n",
    "print('Train : ',errors)\n",
    "from sklearn.metrics import accuracy_score\n",
    "accuracy=accuracy_score(y_train, y_predictor, normalize=True, sample_weight=None)\n",
    "print('Train : ',accuracy)"
   ]
  },
  {
   "cell_type": "code",
   "execution_count": 35,
   "metadata": {},
   "outputs": [
    {
     "name": "stdout",
     "output_type": "stream",
     "text": [
      "Report of Train: \n",
      "              precision    recall  f1-score   support\n",
      "\n",
      "           1       0.73      0.90      0.81      2343\n",
      "           2       0.66      0.37      0.47      1231\n",
      "\n",
      "    accuracy                           0.72      3574\n",
      "   macro avg       0.70      0.63      0.64      3574\n",
      "weighted avg       0.71      0.72      0.69      3574\n",
      "\n"
     ]
    }
   ],
   "source": [
    "from sklearn.metrics import classification_report \n",
    "print('Report of Train: ')\n",
    "print(classification_report(y_train, y_predictor))"
   ]
  },
  {
   "cell_type": "code",
   "execution_count": null,
   "metadata": {},
   "outputs": [],
   "source": []
  }
 ],
 "metadata": {
  "kernelspec": {
   "display_name": "Python 3",
   "language": "python",
   "name": "python3"
  },
  "language_info": {
   "codemirror_mode": {
    "name": "ipython",
    "version": 3
   },
   "file_extension": ".py",
   "mimetype": "text/x-python",
   "name": "python",
   "nbconvert_exporter": "python",
   "pygments_lexer": "ipython3",
   "version": "3.7.4"
  }
 },
 "nbformat": 4,
 "nbformat_minor": 2
}
